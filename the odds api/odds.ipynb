{
 "cells": [
  {
   "cell_type": "code",
   "execution_count": 4,
   "metadata": {},
   "outputs": [],
   "source": [
    "import argparse\n",
    "import pandas as pd\n",
    "import requests"
   ]
  },
  {
   "cell_type": "code",
   "execution_count": 10,
   "metadata": {},
   "outputs": [
    {
     "name": "stderr",
     "output_type": "stream",
     "text": [
      "usage: ipykernel_launcher.py [-h] [--api-key API_KEY]\n",
      "ipykernel_launcher.py: error: unrecognized arguments: --ip=127.0.0.1 --stdin=9011 --control=9009 --hb=9008 --Session.signature_scheme=\"hmac-sha256\" --Session.key=b\"604c8ffa-6cf8-4c7c-8acb-2110d79c16e6\" --shell=9010 --transport=\"tcp\" --iopub=9012 --f=c:\\Users\\michele.ornati\\AppData\\Roaming\\jupyter\\runtime\\kernel-v2-18612owvu0baBGVu2.json\n"
     ]
    },
    {
     "ename": "SystemExit",
     "evalue": "2",
     "output_type": "error",
     "traceback": [
      "An exception has occurred, use %tb to see the full traceback.\n",
      "\u001b[1;31mSystemExit\u001b[0m\u001b[1;31m:\u001b[0m 2\n"
     ]
    }
   ],
   "source": [
    "# Obtain the api key that was passed in from the command line\n",
    "parser = argparse.ArgumentParser(description='Sample V4')\n",
    "parser.add_argument('--api-key', type=str, default='')\n",
    "args = parser.parse_args()"
   ]
  },
  {
   "cell_type": "code",
   "execution_count": 12,
   "metadata": {},
   "outputs": [],
   "source": [
    "# An api key is emailed to you when you sign up to a plan\n",
    "# Get a free API key at https://api.the-odds-api.com/\n",
    "API_KEY = 'b83f2cd800664aae3826c88fb77164d6'\n",
    "\n",
    "# Sport key\n",
    "# Find sport keys from the /sports endpoint below, or from https://the-odds-api.com/sports-odds-data/sports-apis.html\n",
    "# Alternatively use 'upcoming' to see the next 8 games across all sports\n",
    "SPORT = 'upcoming'\n",
    "\n",
    "# Bookmaker regions\n",
    "# uk | us | us2 | eu | au. Multiple can be specified if comma delimited.\n",
    "# More info at https://the-odds-api.com/sports-odds-data/bookmaker-apis.html\n",
    "REGIONS = 'eu'\n",
    "\n",
    "# Odds markets\n",
    "# h2h | spreads | totals. Multiple can be specified if comma delimited\n",
    "# More info at https://the-odds-api.com/sports-odds-data/betting-markets.html\n",
    "# Note only featured markets (h2h, spreads, totals) are available with the odds endpoint.\n",
    "MARKETS = 'h2h,spreads'\n",
    "\n",
    "# Odds format\n",
    "# decimal | american\n",
    "ODDS_FORMAT = 'decimal'\n",
    "\n",
    "# Date format\n",
    "# iso | unix\n",
    "DATE_FORMAT = 'iso'"
   ]
  },
  {
   "cell_type": "code",
   "execution_count": 13,
   "metadata": {},
   "outputs": [
    {
     "name": "stdout",
     "output_type": "stream",
     "text": [
      "List of in season sports saved\n"
     ]
    }
   ],
   "source": [
    "# # # # # # # # # # # # # # # # # # # # # # # # # # # # # # # # # # # # \n",
    "#\n",
    "# First get a list of in-season sports\n",
    "#   The sport 'key' from the response can be used to get odds in the next request\n",
    "#\n",
    "# # # # # # # # # # # # # # # # # # # # # # # # # # # # # # # # # # # # \n",
    "\n",
    "sports_response = requests.get('https://api.the-odds-api.com/v4/sports', params={\n",
    "    'api_key': API_KEY\n",
    "})\n",
    "\n",
    "\n",
    "if sports_response.status_code != 200:\n",
    "    print(f'Failed to get sports: status_code {sports_response.status_code}, response body {sports_response.text}')\n",
    "\n",
    "else:\n",
    "    print('List of in season sports saved')"
   ]
  },
  {
   "cell_type": "code",
   "execution_count": 14,
   "metadata": {},
   "outputs": [
    {
     "name": "stdout",
     "output_type": "stream",
     "text": [
      "Number of events: 9\n",
      "Odds saved\n",
      "Remaining requests 495\n",
      "Used requests 5\n"
     ]
    }
   ],
   "source": [
    "# # # # # # # # # # # # # # # # # # # # # # # # # # # # # # # # # # # # \n",
    "#\n",
    "# Now get a list of live & upcoming games for the sport you want, along with odds for different bookmakers\n",
    "# This will deduct from the usage quota\n",
    "# The usage quota cost = [number of markets specified] x [number of regions specified]\n",
    "# For examples of usage quota costs, see https://the-odds-api.com/liveapi/guides/v4/#usage-quota-costs\n",
    "#\n",
    "# # # # # # # # # # # # # # # # # # # # # # # # # # # # # # # # # # # # \n",
    "\n",
    "odds_response = requests.get(f'https://api.the-odds-api.com/v4/sports/{SPORT}/odds', params={\n",
    "    'api_key': API_KEY,\n",
    "    'regions': REGIONS,\n",
    "    'markets': MARKETS,\n",
    "    'oddsFormat': ODDS_FORMAT,\n",
    "    'dateFormat': DATE_FORMAT,\n",
    "})\n",
    "\n",
    "if odds_response.status_code != 200:\n",
    "    print(f'Failed to get odds: status_code {odds_response.status_code}, response body {odds_response.text}')\n",
    "\n",
    "else:\n",
    "    odds_json = odds_response.json()\n",
    "    print('Number of events:', len(odds_json))\n",
    "    print('Odds saved')\n",
    "\n",
    "    # Check the usage quota\n",
    "    print('Remaining requests', odds_response.headers['x-requests-remaining'])\n",
    "    print('Used requests', odds_response.headers['x-requests-used'])"
   ]
  },
  {
   "cell_type": "code",
   "execution_count": 15,
   "metadata": {},
   "outputs": [],
   "source": [
    "dfSports = pd.DataFrame(sports_response)\n",
    "dfOdds = pd.DataFrame(odds_json)"
   ]
  },
  {
   "cell_type": "code",
   "execution_count": 47,
   "metadata": {},
   "outputs": [],
   "source": [
    "dfOdds.to_json(\"odds.json\")"
   ]
  }
 ],
 "metadata": {
  "kernelspec": {
   "display_name": "bitcoin-arbitrage-trading-bot-master-SQE8TKun",
   "language": "python",
   "name": "python3"
  },
  "language_info": {
   "codemirror_mode": {
    "name": "ipython",
    "version": 3
   },
   "file_extension": ".py",
   "mimetype": "text/x-python",
   "name": "python",
   "nbconvert_exporter": "python",
   "pygments_lexer": "ipython3",
   "version": "3.11.3"
  },
  "orig_nbformat": 4
 },
 "nbformat": 4,
 "nbformat_minor": 2
}
